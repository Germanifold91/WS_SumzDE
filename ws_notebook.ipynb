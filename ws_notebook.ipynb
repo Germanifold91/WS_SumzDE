{
 "cells": [
  {
   "cell_type": "code",
   "execution_count": 1,
   "metadata": {},
   "outputs": [],
   "source": [
    "from pyspark.sql import SparkSession"
   ]
  },
  {
   "cell_type": "code",
   "execution_count": 2,
   "metadata": {},
   "outputs": [],
   "source": [
    "spark = SparkSession.builder.appName(\"WS_DE\").getOrCreate()"
   ]
  },
  {
   "cell_type": "code",
   "execution_count": 5,
   "metadata": {},
   "outputs": [],
   "source": [
    "df = spark.read.csv(r\"C:\\Users\\germa\\OneDrive\\German\\Gastos\\gastos_hist.csv\", sep=\";\", header=True)\n"
   ]
  },
  {
   "cell_type": "code",
   "execution_count": 7,
   "metadata": {},
   "outputs": [
    {
     "name": "stdout",
     "output_type": "stream",
     "text": [
      "+----------+------+---------------+--------------------+------------------+--------------------+--------------------+----------+----------+\n",
      "|     FECHA| MONTO|      CATEGORIA|        SUBCATEGORIA|           DETALLE|         DESCRIPCION|          MEDIO_PAGO|NUM_CUOTAS|RECURRENTE|\n",
      "+----------+------+---------------+--------------------+------------------+--------------------+--------------------+----------+----------+\n",
      "|16/03/2023|  5500|Entretenimiento|         Restaurante|              Onza|                null|Codigo QrBancolombia|      null|      TRUE|\n",
      "|16/03/2023|120000|         Viajes|            Equipaje|       Viaje Pasto|Transporte Bicicleta|    Tarjeta Credito |         1|     FALSE|\n",
      "|16/03/2023|180000|      Bicicleta|       Mantenimiento|              Fuga|Mantenimiento y E...|Transferencia Ban...|      null|      TRUE|\n",
      "|16/03/2023|135000|      Bicicleta|Repuestos y Herra...|Cadenilla y frenos|                null|Transferencia Ban...|      null|     FALSE|\n",
      "|17/03/2023| 20000|         Viajes|          Transporte|       Viaje Pasto|Taxi Apartamento ...|            Efectivo|      null|     FALSE|\n",
      "|17/03/2023| 15500|         Viajes|        Alimentacion|       Viaje Pasto|                null|      Tarjeta Debito|      null|     FALSE|\n",
      "|17/03/2023|  5900|         Viajes|        Alimentacion|       Viaje Pasto|                null|      Tarjeta Debito|      null|     FALSE|\n",
      "|17/03/2023|  9000|         Viajes|        Alimentacion|       Viaje Pasto|                null|            Efectivo|      null|     FALSE|\n",
      "|17/03/2023| 15000|         Viajes|           Coworking|       Viaje Pasto|                null|            Efectivo|      null|     FALSE|\n",
      "|17/03/2023|  6000|         Viajes|          Transporte|       Viaje Pasto|                null|            Efectivo|      null|     FALSE|\n",
      "|17/03/2023| 31200|         Viajes|        Alimentacion|       Viaje Pasto|                null|            Efectivo|      null|     FALSE|\n",
      "|17/03/2023|  6000|         Viajes|        Alimentacion|       Viaje Pasto|                null|            Efectivo|      null|     FALSE|\n",
      "|17/03/2023|  1900|         Viajes|        Alimentacion|       Viaje Pasto|                null|            Efectivo|      null|     FALSE|\n",
      "|18/03/2023| 26000|      Bicicleta|        Alimentacion|   Salida en Pasto|                null|            Efectivo|      null|      TRUE|\n",
      "|18/03/2023| 10000|         Viajes|            Propinas|       Viaje Pasto|                null|            Efectivo|      null|     FALSE|\n",
      "|19/03/2023| 32000|         Viajes|        Alimentacion|       Viaje Pasto|                null|            Efectivo|      null|     FALSE|\n",
      "|19/03/2023|  5000|         Viajes|               Otros|       Viaje Pasto|                null|            Efectivo|      null|     FALSE|\n",
      "|19/03/2023| 50000|         Viajes|        Alimentacion|       Viaje Pasto|                null|      Tarjeta Debito|      null|     FALSE|\n",
      "|20/03/2023| 10000|         Viajes|          Transporte|       Viaje Pasto|                null|            Efectivo|      null|     FALSE|\n",
      "|20/03/2023|  7000|         Viajes|            Propinas|       Viaje Pasto|                null|            Efectivo|      null|     FALSE|\n",
      "+----------+------+---------------+--------------------+------------------+--------------------+--------------------+----------+----------+\n",
      "only showing top 20 rows\n",
      "\n"
     ]
    }
   ],
   "source": [
    "df.show()"
   ]
  }
 ],
 "metadata": {
  "kernelspec": {
   "display_name": "ws_env",
   "language": "python",
   "name": "python3"
  },
  "language_info": {
   "codemirror_mode": {
    "name": "ipython",
    "version": 3
   },
   "file_extension": ".py",
   "mimetype": "text/x-python",
   "name": "python",
   "nbconvert_exporter": "python",
   "pygments_lexer": "ipython3",
   "version": "3.10.0"
  },
  "orig_nbformat": 4
 },
 "nbformat": 4,
 "nbformat_minor": 2
}
