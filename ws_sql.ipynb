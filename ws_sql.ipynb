{
 "cells": [
  {
   "cell_type": "markdown",
   "metadata": {},
   "source": [
    "# 1. Carga de Librerias"
   ]
  },
  {
   "cell_type": "code",
   "execution_count": 1,
   "metadata": {},
   "outputs": [],
   "source": [
    "import pyspark.sql.functions as F\n",
    "from pyspark.sql import SparkSession\n",
    "from pyspark.sql.types import StructType, StructField, StringType, IntegerType, DoubleType\n",
    "from pyspark.sql.window import Window"
   ]
  },
  {
   "cell_type": "markdown",
   "metadata": {},
   "source": [
    "# 2. Opciones y Parametros Globales"
   ]
  },
  {
   "cell_type": "code",
   "execution_count": 2,
   "metadata": {},
   "outputs": [],
   "source": [
    "spark = SparkSession.builder.appName('WS_DE').getOrCreate()"
   ]
  },
  {
   "cell_type": "markdown",
   "metadata": {},
   "source": [
    "# 3. Carga de bases de datos"
   ]
  },
  {
   "cell_type": "code",
   "execution_count": 3,
   "metadata": {},
   "outputs": [],
   "source": [
    "#Schema para base de datos sales_df\n",
    "schema_sales = StructType([\n",
    "    StructField('product_id', StringType(), True),\n",
    "    StructField('store_id', StringType(), True),\n",
    "    StructField('date', StringType(), True),\n",
    "    StructField('sales', DoubleType(), True),\n",
    "    StructField('revenue', DoubleType(), True),\n",
    "    StructField('stock', DoubleType(), True),\n",
    "    StructField('price', DoubleType(), True),\n",
    "    StructField('promo_type_1', StringType(), True),\n",
    "    StructField('promo_bin_1', StringType(), True),\n",
    "    StructField('promo_type_2', StringType(), True),\n",
    "    StructField('promo_bin_2', StringType(), True),\n",
    "    StructField('promo_discount_2', StringType(), True),\n",
    "    StructField('promo_discount_type_2', StringType(), True)\n",
    "])\n",
    "#Schema para base de datos prod_df\n",
    "schema_prod = StructType([\n",
    "    StructField('product_id', StringType(), True),\n",
    "    StructField('product_length', DoubleType(), True),\n",
    "    StructField('product_depth', DoubleType(), True),\n",
    "    StructField('product_width', DoubleType(), True),\n",
    "    StructField('cluster_id', StringType(), True),\n",
    "    StructField('hierarchy1_id', StringType(), True),\n",
    "    StructField('hierarchy2_id', StringType(), True),\n",
    "    StructField('hierarchy3_id', StringType(), True),\n",
    "    StructField('hierarchy4_id', StringType(), True),\n",
    "    StructField('hierarchy5_id', StringType(), True),\n",
    "])\n",
    "#Schema para base de datos stores_df\n",
    "schema_stores = StructType([\n",
    "    StructField('store_id', StringType(), True),\n",
    "    StructField('storetype_id', StringType(), True),\n",
    "    StructField('store_size', IntegerType(), True),\n",
    "    StructField('city_id', StringType(), True)\n",
    "])\n"
   ]
  },
  {
   "cell_type": "code",
   "execution_count": 4,
   "metadata": {},
   "outputs": [],
   "source": [
    "sales_df = spark.read.csv(r'C:\\Users\\germa\\Desktop\\Sumz\\WS_DE\\WS_SumzDE\\sales.csv\\sales.csv', sep=',', header=True, schema=schema_sales)\n",
    "prod_df = spark.read.csv(r'C:\\Users\\germa\\Desktop\\Sumz\\WS_DE\\WS_SumzDE\\product_hierarchy.csv', sep=',', header=True, schema=schema_prod)\n",
    "stores_df = spark.read.csv(r'C:\\Users\\germa\\Desktop\\Sumz\\WS_DE\\WS_SumzDE\\store_cities.csv', sep=',', header = True, schema=schema_stores)\n"
   ]
  },
  {
   "cell_type": "code",
   "execution_count": 5,
   "metadata": {},
   "outputs": [],
   "source": [
    "sales_df.createOrReplaceTempView(\"sales\")\n",
    "prod_df.createOrReplaceTempView(\"prods\")\n",
    "stores_df.createOrReplaceTempView(\"stores\")"
   ]
  },
  {
   "cell_type": "markdown",
   "metadata": {},
   "source": [
    "# 4. EDA bases de datos"
   ]
  },
  {
   "cell_type": "code",
   "execution_count": 6,
   "metadata": {},
   "outputs": [
    {
     "name": "stdout",
     "output_type": "stream",
     "text": [
      "+----------+--------+----------+-----+-------+-----+-----+------------+-----------+------------+-----------+----------------+---------------------+\n",
      "|product_id|store_id|      date|sales|revenue|stock|price|promo_type_1|promo_bin_1|promo_type_2|promo_bin_2|promo_discount_2|promo_discount_type_2|\n",
      "+----------+--------+----------+-----+-------+-----+-----+------------+-----------+------------+-----------+----------------+---------------------+\n",
      "|     P0001|   S0002|2017-01-02|  0.0|    0.0|  8.0| 6.25|        PR14|       null|        PR03|       null|            null|                 null|\n",
      "|     P0001|   S0012|2017-01-02|  1.0|    5.3|  0.0| 6.25|        PR14|       null|        PR03|       null|            null|                 null|\n",
      "|     P0001|   S0013|2017-01-02|  2.0|  10.59|  0.0| 6.25|        PR14|       null|        PR03|       null|            null|                 null|\n",
      "|     P0001|   S0023|2017-01-02|  0.0|    0.0|  6.0| 6.25|        PR14|       null|        PR03|       null|            null|                 null|\n",
      "|     P0001|   S0025|2017-01-02|  0.0|    0.0|  1.0| 6.25|        PR14|       null|        PR03|       null|            null|                 null|\n",
      "|     P0001|   S0027|2017-01-02|  0.0|    0.0|  7.0| 6.25|        PR14|       null|        PR03|       null|            null|                 null|\n",
      "|     P0001|   S0040|2017-01-02|  0.0|    0.0| 19.0| 6.25|        PR14|       null|        PR03|       null|            null|                 null|\n",
      "|     P0001|   S0049|2017-01-02|  0.0|    0.0|  8.0| 6.25|        PR14|       null|        PR03|       null|            null|                 null|\n",
      "|     P0001|   S0050|2017-01-02|  0.0|    0.0|  5.0| 6.25|        PR14|       null|        PR03|       null|            null|                 null|\n",
      "|     P0001|   S0051|2017-01-02|  0.0|    0.0|  6.0| 6.25|        PR14|       null|        PR03|       null|            null|                 null|\n",
      "+----------+--------+----------+-----+-------+-----+-----+------------+-----------+------------+-----------+----------------+---------------------+\n",
      "\n"
     ]
    }
   ],
   "source": [
    "query = \"SELECT * FROM sales LIMIT 10\"\n",
    "spark.sql(query).show()"
   ]
  },
  {
   "cell_type": "code",
   "execution_count": 7,
   "metadata": {},
   "outputs": [
    {
     "name": "stdout",
     "output_type": "stream",
     "text": [
      "+----------+--------------+-------------+-------------+----------+-------------+-------------+-------------+-------------+-------------+\n",
      "|product_id|product_length|product_depth|product_width|cluster_id|hierarchy1_id|hierarchy2_id|hierarchy3_id|hierarchy4_id|hierarchy5_id|\n",
      "+----------+--------------+-------------+-------------+----------+-------------+-------------+-------------+-------------+-------------+\n",
      "|     P0000|           5.0|         20.0|         12.0|      null|          H00|        H0004|      H000401|    H00040105|  H0004010534|\n",
      "|     P0001|          13.5|         22.0|         20.0| cluster_5|          H01|        H0105|      H010501|    H01050100|  H0105010006|\n",
      "|     P0002|          22.0|         40.0|         22.0| cluster_0|          H03|        H0315|      H031508|    H03150800|  H0315080028|\n",
      "|     P0004|           2.0|         13.0|          4.0| cluster_3|          H03|        H0314|      H031405|    H03140500|  H0314050003|\n",
      "|     P0005|          16.0|         30.0|         16.0| cluster_9|          H03|        H0312|      H031211|    H03121109|  H0312110917|\n",
      "|     P0006|           8.5|         15.0|         15.0| cluster_0|          H03|        H0316|      H031608|    H03160817|  H0316081708|\n",
      "|     P0007|           2.0|         22.0|          9.5| cluster_4|          H03|        H0313|      H031305|    H03130519|  H0313051904|\n",
      "|     P0008|           5.0|         16.0|          5.0| cluster_0|          H00|        H0000|      H000004|    H00000400|  H0000040017|\n",
      "|     P0009|           5.0|         18.0|         14.0| cluster_6|          H00|        H0002|      H000201|    H00020100|  H0002010012|\n",
      "|     P0010|           2.0|         22.0|          3.0| cluster_0|          H01|        H0108|      H010801|    H01080109|  H0108010917|\n",
      "+----------+--------------+-------------+-------------+----------+-------------+-------------+-------------+-------------+-------------+\n",
      "\n"
     ]
    }
   ],
   "source": [
    "query = \"SELECT * FROM prods LIMIT 10\"\n",
    "spark.sql(query).show()"
   ]
  },
  {
   "cell_type": "code",
   "execution_count": 8,
   "metadata": {},
   "outputs": [
    {
     "name": "stdout",
     "output_type": "stream",
     "text": [
      "+--------+------------+----------+-------+\n",
      "|store_id|storetype_id|store_size|city_id|\n",
      "+--------+------------+----------+-------+\n",
      "|   S0091|        ST04|        19|   C013|\n",
      "|   S0012|        ST04|        28|   C005|\n",
      "|   S0045|        ST04|        17|   C008|\n",
      "|   S0032|        ST03|        14|   C019|\n",
      "|   S0027|        ST04|        24|   C022|\n",
      "|   S0088|        ST04|        20|   C009|\n",
      "|   S0095|        ST02|        44|   C014|\n",
      "|   S0055|        ST04|        24|   C014|\n",
      "|   S0099|        ST03|        14|   C014|\n",
      "|   S0078|        ST04|        19|   C036|\n",
      "+--------+------------+----------+-------+\n",
      "\n"
     ]
    }
   ],
   "source": [
    "query = \"SELECT * FROM stores LIMIT 10\"\n",
    "spark.sql(query).show()"
   ]
  },
  {
   "cell_type": "markdown",
   "metadata": {},
   "source": [
    "# 5. Preguntas"
   ]
  },
  {
   "cell_type": "markdown",
   "metadata": {},
   "source": [
    "1. Quisiera saber cuáles fueron los productos más populares cada mes durante el año 2018. ¿Me puedes mostrar esa información?"
   ]
  },
  {
   "cell_type": "code",
   "execution_count": 12,
   "metadata": {},
   "outputs": [
    {
     "name": "stdout",
     "output_type": "stream",
     "text": [
      "+-----+----------+----------+\n",
      "|month|product_id|units_sold|\n",
      "+-----+----------+----------+\n",
      "|    1|     P0438|   21326.0|\n",
      "|    1|     P0103|   19046.0|\n",
      "|    1|     P0364|    7984.0|\n",
      "|    1|     P0051|    7754.0|\n",
      "|    1|     P0590|    5692.0|\n",
      "|    2|     P0438|   21485.0|\n",
      "|    2|     P0103|   16474.0|\n",
      "|    2|     P0051|    7555.0|\n",
      "|    2|     P0388|    6212.0|\n",
      "|    2|     P0590|    5952.0|\n",
      "|    3|     P0438|   23154.0|\n",
      "|    3|     P0103|   17923.0|\n",
      "|    3|     P0388|   11840.0|\n",
      "|    3|     P0364|   10505.0|\n",
      "|    3|     P0051|    9635.0|\n",
      "|    4|     P0438|   24392.0|\n",
      "|    4|     P0103|   19166.0|\n",
      "|    4|     P0388|   10965.0|\n",
      "|    4|     P0051|    7448.0|\n",
      "|    4|     P0131|    6788.0|\n",
      "+-----+----------+----------+\n",
      "only showing top 20 rows\n",
      "\n"
     ]
    }
   ],
   "source": [
    "query_q1 = \"\"\"WITH RankedSales AS (\n",
    "    SELECT \n",
    "        month,\n",
    "        product_id,\n",
    "        units_sold,\n",
    "        ammount_sold,\n",
    "\n",
    "        -- Rank by units sold within each month\n",
    "        RANK() OVER (PARTITION BY month ORDER BY units_sold DESC) AS rank_units_sold\n",
    "\n",
    "    FROM (\n",
    "        -- Seleccion de año 2018\n",
    "        SELECT \n",
    "            MONTH(date) AS month,\n",
    "            product_id,\n",
    "            SUM(sales) AS units_sold,\n",
    "            SUM(revenue) AS ammount_sold\n",
    "        FROM sales\n",
    "        WHERE YEAR(date) = 2018\n",
    "        GROUP BY MONTH(date), product_id\n",
    "    ) AS AggregatedSales\n",
    ")\n",
    "\n",
    "SELECT\n",
    "    month,\n",
    "    product_id,\n",
    "    units_sold\n",
    "FROM RankedSales\n",
    "WHERE rank_units_sold <= 5;\n",
    "\"\"\"\n",
    "spark.sql(query_q1).show()"
   ]
  },
  {
   "cell_type": "markdown",
   "metadata": {},
   "source": [
    "2. Necesito saber en cuántas tiendas se implementaron promociones del tipo 1 en el canal 1 durante el año 2019. ¿Puedes darme ese dato?</li>"
   ]
  },
  {
   "cell_type": "code",
   "execution_count": 14,
   "metadata": {},
   "outputs": [
    {
     "name": "stdout",
     "output_type": "stream",
     "text": [
      "+----------+\n",
      "|num_stores|\n",
      "+----------+\n",
      "|       144|\n",
      "+----------+\n",
      "\n"
     ]
    }
   ],
   "source": [
    "query_q2 = \"\"\"SELECT COUNT(DISTINCT store_id) AS num_stores\n",
    "FROM sales\n",
    "WHERE \n",
    "    YEAR(date) = 2019 AND \n",
    "    promo_bin_1 IS NOT NULL AND \n",
    "    promo_type_1 IS NOT NULL;\n",
    "\"\"\"\n",
    "spark.sql(query_q2).show()"
   ]
  },
  {
   "cell_type": "markdown",
   "metadata": {},
   "source": [
    "3. Me gustaría saber cuál fue la ciudad que tuvo el mayor volumen de ventas en general durante todo el periodo de 2017 a 2019. ¿Tienes esa información disponible?"
   ]
  },
  {
   "cell_type": "code",
   "execution_count": 17,
   "metadata": {},
   "outputs": [
    {
     "name": "stdout",
     "output_type": "stream",
     "text": [
      "+-------+------------------+\n",
      "|city_id| unidades_vendidas|\n",
      "+-------+------------------+\n",
      "|   C014| 2573439.551999999|\n",
      "|   C022| 906317.9269999999|\n",
      "|   C031|        803258.172|\n",
      "|   C036|375269.86100000003|\n",
      "|   C024|        286316.087|\n",
      "+-------+------------------+\n",
      "\n"
     ]
    }
   ],
   "source": [
    "query_q3 = \"\"\" \n",
    "WITH VentasTiendas AS (\n",
    "    SELECT \n",
    "        s.store_id,\n",
    "        SUM(s.sales) AS total_units_sold,\n",
    "        st.city_id\n",
    "    FROM sales s\n",
    "    LEFT JOIN stores st ON s.store_id = st.store_id\n",
    "    WHERE YEAR(s.date) IN (2017, 2018, 2019)\n",
    "    GROUP BY st.city_id, s.store_id\n",
    ")\n",
    "\n",
    "SELECT \n",
    "    city_id, \n",
    "    SUM(total_units_sold) AS unidades_vendidas\n",
    "FROM VentasTiendas\n",
    "GROUP BY city_id\n",
    "ORDER BY unidades_vendidas DESC\n",
    "LIMIT 5;\n",
    "\"\"\"\n",
    "spark.sql(query_q3).show()"
   ]
  },
  {
   "cell_type": "markdown",
   "metadata": {},
   "source": [
    "4. ¿Podrías decirme cuál fue el promedio de stock disponible en todas las tiendas durante el año 2017? Estoy interesado en conocer ese dato."
   ]
  },
  {
   "cell_type": "code",
   "execution_count": 13,
   "metadata": {},
   "outputs": [
    {
     "name": "stdout",
     "output_type": "stream",
     "text": [
      "+-------------------+\n",
      "|stock_promedio_2017|\n",
      "+-------------------+\n",
      "|               17.0|\n",
      "+-------------------+\n",
      "\n"
     ]
    }
   ],
   "source": [
    "#RESPUESTA\n",
    "sales_df.filter(F.col('year') == 2017).select(F.round(F.mean('stock')).alias('stock_promedio_2017')).show()"
   ]
  },
  {
   "cell_type": "markdown",
   "metadata": {},
   "source": [
    "5. Estoy buscando saber cuántas veces se aplicaron descuentos en el canal 2 durante el mes de diciembre de 2018. ¿Puedes ayudarme con esa información?"
   ]
  },
  {
   "cell_type": "code",
   "execution_count": 14,
   "metadata": {},
   "outputs": [
    {
     "data": {
      "text/plain": [
       "0"
      ]
     },
     "execution_count": 14,
     "metadata": {},
     "output_type": "execute_result"
    }
   ],
   "source": [
    "#RESPUESTA\n",
    "sales_df.filter((F.col('year') == 2018) &\n",
    "                (F.col('month') == 12) &\n",
    "                (F.col('promo_bin_2').isNotNull())).count()"
   ]
  },
  {
   "cell_type": "markdown",
   "metadata": {},
   "source": [
    "6. ¿Cuál fue el producto con el precio de venta más alto en cada tienda durante el tercer trimestre de 2019? Me gustaría conocer esos detalles."
   ]
  },
  {
   "cell_type": "code",
   "execution_count": 27,
   "metadata": {},
   "outputs": [
    {
     "name": "stdout",
     "output_type": "stream",
     "text": [
      "+--------+----------+------+----------+\n",
      "|store_id|product_id| price|rank_price|\n",
      "+--------+----------+------+----------+\n",
      "|   S0001|     P0498| 299.9|         1|\n",
      "|   S0002|     P0708|1599.0|         1|\n",
      "|   S0003|     P0498| 299.9|         1|\n",
      "|   S0004|     P0498| 299.9|         1|\n",
      "|   S0005|     P0498| 299.9|         1|\n",
      "|   S0006|     P0680|139.95|         1|\n",
      "|   S0007|     P0391| 179.9|         1|\n",
      "|   S0008|     P0498| 299.9|         1|\n",
      "|   S0009|     P0680|139.95|         1|\n",
      "|   S0010|     P0680|139.95|         1|\n",
      "|   S0011|     P0391| 179.9|         1|\n",
      "|   S0012|     P0708|1349.0|         1|\n",
      "|   S0013|     P0708|1499.0|         1|\n",
      "|   S0014|     P0391| 179.9|         1|\n",
      "|   S0015|     P0391| 179.9|         1|\n",
      "|   S0016|     P0498| 299.9|         1|\n",
      "|   S0017|     P0517|199.95|         1|\n",
      "|   S0018|     P0391| 179.9|         1|\n",
      "|   S0019|     P0680|139.95|         1|\n",
      "|   S0020|     P0474| 499.0|         1|\n",
      "+--------+----------+------+----------+\n",
      "only showing top 20 rows\n",
      "\n"
     ]
    }
   ],
   "source": [
    "#RESPUESTA\n",
    "stores_window = Window.partitionBy('store_id')\n",
    "prods_price = sales_df.filter((F.col('date') >= '2019-07-01') &\n",
    "                              (F.col('date') <= '2019-09-30'))\n",
    "prods_price = prods_price.withColumn('rank_price', F.rank().over(stores_window.orderBy(F.col('price').desc())))\n",
    "prods_price.filter(F.col('rank_price') == 1).orderBy('store_id').select('store_id', 'product_id', 'price', 'rank_price').distinct().orderBy('store_id').show(20)"
   ]
  },
  {
   "cell_type": "markdown",
   "metadata": {},
   "source": [
    "7. Estoy interesado en saber cuántas tiendas experimentaron un aumento de ventas del 20% o más en comparación con el año anterior. ¿Tienes esos datos disponibles?"
   ]
  },
  {
   "cell_type": "code",
   "execution_count": 29,
   "metadata": {},
   "outputs": [],
   "source": [
    "sales_hist = sales_df.groupBy('store_id', 'year').agg(F.round(F.sum('revenue')).alias('total_sales'))\n",
    "sales_hist = sales_hist.withColumn('previous_year_sales', F.lag('total_sales').over(stores_window.orderBy('year')))\n",
    "sales_hist = sales_hist.filter(F.col('previous_year_sales').isNotNull())\n",
    "sales_hist = sales_hist.withColumn('change_sales_previous_year', F.round((F.col('total_sales') - F.col('previous_year_sales'))/F.col('previous_year_sales'), 4))"
   ]
  },
  {
   "cell_type": "code",
   "execution_count": 30,
   "metadata": {},
   "outputs": [
    {
     "name": "stdout",
     "output_type": "stream",
     "text": [
      "+--------+----+-----------+-------------------+--------------------------+\n",
      "|store_id|year|total_sales|previous_year_sales|change_sales_previous_year|\n",
      "+--------+----+-----------+-------------------+--------------------------+\n",
      "|   S0001|2018|   272539.0|           209593.0|                    0.3003|\n",
      "|   S0001|2019|   364910.0|           272539.0|                    0.3389|\n",
      "|   S0002|2018|   175935.0|           125121.0|                    0.4061|\n",
      "|   S0002|2019|   193065.0|           175935.0|                    0.0974|\n",
      "|   S0003|2018|    45477.0|            32672.0|                    0.3919|\n",
      "+--------+----+-----------+-------------------+--------------------------+\n",
      "only showing top 5 rows\n",
      "\n"
     ]
    }
   ],
   "source": [
    "sales_hist.show(5)"
   ]
  },
  {
   "cell_type": "code",
   "execution_count": 31,
   "metadata": {},
   "outputs": [
    {
     "name": "stdout",
     "output_type": "stream",
     "text": [
      "Numero de tiendas que aumentaron sus ventas entre el 2018 al 2019 en al menos un 20%: 48 \n",
      "Numero de tiendas que aumentaron sus ventas en comparasion con el año anterior en al menos un 20%: 125\n"
     ]
    }
   ],
   "source": [
    "#RESPUESTA\n",
    "v1 = sales_hist.filter((F.col('year') == 2019) &\n",
    "                  (F.col('change_sales_previous_year') >= 0.2)).select('store_id').count()\n",
    "v2 = sales_hist.filter((F.col('change_sales_previous_year') >= 0.2)).select('store_id').distinct().count()\n",
    "\n",
    "print(f\"Numero de tiendas que aumentaron sus ventas entre el 2018 al 2019 en al menos un 20%: {v1} \\nNumero de tiendas que aumentaron sus ventas en comparasion con el año anterior en al menos un 20%: {v2}\")"
   ]
  },
  {
   "cell_type": "markdown",
   "metadata": {},
   "source": [
    "8. Quisiera saber cuál fue el producto que experimentó la mayor variación de precio a lo largo del periodo de 2017 a 2019. ¿Puedes proporcionarme esa información?"
   ]
  },
  {
   "cell_type": "code",
   "execution_count": 19,
   "metadata": {},
   "outputs": [],
   "source": [
    "price_hist = sales_df.groupBy('product_id', 'year').agg(F.round(F.mean('price'), 2).alias('avg_price'))\n",
    "product_window = Window.partitionBy('product_id')\n",
    "price_hist = price_hist.withColumn('initial_price', F.lag(F.col('avg_price'), 2).over(product_window.orderBy('year')))"
   ]
  },
  {
   "cell_type": "code",
   "execution_count": 20,
   "metadata": {},
   "outputs": [],
   "source": [
    "price_hist = price_hist.withColumn('price_variation', F.abs((F.col('initial_price') - F.col('avg_price'))/F.col('initial_price')))\n",
    "price_hist = price_hist.withColumn('price_variation', F.round(F.col('price_variation'), 2))\n",
    "price_hist = price_hist.withColumnRenamed('avg_price', 'current_price')"
   ]
  },
  {
   "cell_type": "code",
   "execution_count": 21,
   "metadata": {},
   "outputs": [
    {
     "name": "stdout",
     "output_type": "stream",
     "text": [
      "+----------+----+-------------+-------------+---------------+\n",
      "|product_id|year|current_price|initial_price|price_variation|\n",
      "+----------+----+-------------+-------------+---------------+\n",
      "|     P0001|2017|          6.9|         null|           null|\n",
      "|     P0001|2018|          8.0|         null|           null|\n",
      "|     P0001|2019|        10.95|          6.9|           0.59|\n",
      "|     P0002|2017|       317.91|         null|           null|\n",
      "|     P0002|2018|       270.64|         null|           null|\n",
      "|     P0002|2019|       273.31|       317.91|           0.14|\n",
      "|     P0004|2017|          4.5|         null|           null|\n",
      "|     P0004|2018|         4.77|         null|           null|\n",
      "|     P0004|2019|          4.0|          4.5|           0.11|\n",
      "|     P0005|2017|         33.9|         null|           null|\n",
      "+----------+----+-------------+-------------+---------------+\n",
      "only showing top 10 rows\n",
      "\n"
     ]
    }
   ],
   "source": [
    "price_hist.orderBy('product_id', 'year').show(10)"
   ]
  },
  {
   "cell_type": "code",
   "execution_count": 22,
   "metadata": {},
   "outputs": [
    {
     "name": "stdout",
     "output_type": "stream",
     "text": [
      "+----------+----+-------------+-------------+---------------+\n",
      "|product_id|year|current_price|initial_price|price_variation|\n",
      "+----------+----+-------------+-------------+---------------+\n",
      "|     P0089|2019|        19.59|         5.37|           2.65|\n",
      "|     P0061|2019|        24.25|         7.65|           2.17|\n",
      "|     P0671|2019|         8.25|         3.25|           1.54|\n",
      "|     P0147|2019|        12.73|         5.07|           1.51|\n",
      "|     P0183|2019|        15.98|         6.42|           1.49|\n",
      "|     P0282|2019|         4.65|          1.9|           1.45|\n",
      "|     P0628|2019|        11.33|         4.75|           1.39|\n",
      "|     P0440|2019|        35.51|        14.99|           1.37|\n",
      "|     P0566|2019|         2.72|         1.15|           1.37|\n",
      "|     P0214|2019|         9.83|         4.37|           1.25|\n",
      "+----------+----+-------------+-------------+---------------+\n",
      "only showing top 10 rows\n",
      "\n"
     ]
    }
   ],
   "source": [
    "#RESPUESTA\n",
    "#Top 10 de productos con mayor variacion de precio entre el 2017 y 2019\n",
    "price_hist.filter(F.col('price_variation').isNotNull()).orderBy('price_variation', ascending = False).show(10)"
   ]
  },
  {
   "cell_type": "markdown",
   "metadata": {},
   "source": [
    "9. ¿Sabes en qué mes y año se registró la mayor cantidad de ingresos generados en todas las tiendas? Estoy interesado en conocer ese dato importante."
   ]
  },
  {
   "cell_type": "code",
   "execution_count": 23,
   "metadata": {},
   "outputs": [
    {
     "name": "stdout",
     "output_type": "stream",
     "text": [
      "+----------+-----------+\n",
      "|year_month|total_sales|\n",
      "+----------+-----------+\n",
      "|    2019-8|  2619133.0|\n",
      "|    2019-6|  1534773.0|\n",
      "|    2019-7|  1533953.0|\n",
      "|    2019-9|  1520783.0|\n",
      "|   2019-10|  1495227.0|\n",
      "|    2018-5|  1372225.0|\n",
      "|   2018-12|  1308908.0|\n",
      "|    2019-5|  1284677.0|\n",
      "|    2019-3|  1278992.0|\n",
      "|   2018-10|  1263368.0|\n",
      "+----------+-----------+\n",
      "only showing top 10 rows\n",
      "\n"
     ]
    }
   ],
   "source": [
    "#RESPUESTA\n",
    "sales_df = sales_df.withColumn(\"year_month\", F.concat_ws(\"-\", F.year(\"date\"), F.month(\"date\")))\n",
    "sales_df.groupBy('year_month').agg(F.round((F.sum('revenue'))).alias('total_sales')).orderBy('total_sales', ascending = False).show(10)"
   ]
  },
  {
   "cell_type": "markdown",
   "metadata": {},
   "source": [
    "10. Me gustaría saber cuál fue el tamaño promedio de las tiendas en cada ciudad durante el año 2018. ¿Puedes darme esa información?"
   ]
  },
  {
   "cell_type": "code",
   "execution_count": 28,
   "metadata": {},
   "outputs": [
    {
     "name": "stdout",
     "output_type": "stream",
     "text": [
      "+-------+--------------+\n",
      "|city_id|avg_store_size|\n",
      "+-------+--------------+\n",
      "|   C004|          63.0|\n",
      "|   C002|          47.0|\n",
      "|   C036|          43.0|\n",
      "|   C015|          42.0|\n",
      "|   C007|          39.0|\n",
      "|   C027|          39.0|\n",
      "|   C033|          35.0|\n",
      "|   C016|          35.0|\n",
      "|   C017|          34.0|\n",
      "|   C025|          31.0|\n",
      "+-------+--------------+\n",
      "only showing top 10 rows\n",
      "\n"
     ]
    }
   ],
   "source": [
    "#RESPUESTA\n",
    "stores_2018 = sales_df.filter(F.col('year') == 2018).select('store_id').distinct()\n",
    "stores_2018 = stores_2018.join(stores_df, on = 'store_id', how = 'left')\n",
    "stores_2018.groupBy('city_id').agg(F.round(F.mean('store_size')).alias('avg_store_size')).orderBy('avg_store_size', ascending = False).show(10)"
   ]
  }
 ],
 "metadata": {
  "kernelspec": {
   "display_name": "ws_env",
   "language": "python",
   "name": "python3"
  },
  "language_info": {
   "codemirror_mode": {
    "name": "ipython",
    "version": 3
   },
   "file_extension": ".py",
   "mimetype": "text/x-python",
   "name": "python",
   "nbconvert_exporter": "python",
   "pygments_lexer": "ipython3",
   "version": "3.10.0"
  },
  "orig_nbformat": 4
 },
 "nbformat": 4,
 "nbformat_minor": 2
}
